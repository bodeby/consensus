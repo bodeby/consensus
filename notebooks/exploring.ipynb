{
 "cells": [
  {
   "cell_type": "markdown",
   "metadata": {},
   "source": [
    "## Ensemble learning on transformer based models from Hugginface"
   ]
  },
  {
   "cell_type": "code",
   "execution_count": 2,
   "metadata": {},
   "outputs": [],
   "source": [
    "from transformers import AutoModelForCausalLM\n",
    "from transformers import AutoTokenizer\n",
    "import torch.nn.functional as F\n",
    "import torch\n",
    "\n",
    "# typings\n",
    "from typing import List, Tensor"
   ]
  },
  {
   "cell_type": "markdown",
   "metadata": {},
   "source": []
  },
  {
   "cell_type": "code",
   "execution_count": null,
   "metadata": {},
   "outputs": [],
   "source": [
    "model_name = \"microsoft/Phi-3-mini-4k-instruct\""
   ]
  },
  {
   "cell_type": "markdown",
   "metadata": {},
   "source": []
  },
  {
   "cell_type": "code",
   "execution_count": null,
   "metadata": {},
   "outputs": [],
   "source": [
    "weight = 1.0\n",
    "tokenizer = AutoTokenizer.from_pretrained(model_name, trust_remote_code=True)\n",
    "model = AutoModelForCausalLM.from_pretrained(model_name, trust_remote_code=True)"
   ]
  },
  {
   "cell_type": "markdown",
   "metadata": {},
   "source": []
  },
  {
   "cell_type": "code",
   "execution_count": null,
   "metadata": {},
   "outputs": [],
   "source": [
    "prompt = \"What is the capital of France?\"\n",
    "prompt_tokenized = tokenizer(prompt, return_tensors=\"pt\")"
   ]
  },
  {
   "cell_type": "markdown",
   "metadata": {},
   "source": [
    "### Get the top-k tokens"
   ]
  },
  {
   "cell_type": "code",
   "execution_count": null,
   "metadata": {},
   "outputs": [],
   "source": [
    "\"\"\"\n",
    "Get the top-k token probabilities from the model output.\n",
    "\n",
    ":param k: The number of top tokens to retrieve.\n",
    ":return: A list of tuples containing the top-k tokens and their probabilities.\n",
    "\"\"\"\n",
    "def get_top_k(input, k: int = 10) -> List[(List[str], Tensor)]:\n",
    "    # Get the model outputs\n",
    "    with torch.no_grad():\n",
    "        outputs = model(**input)\n",
    "        logits = outputs.logits\n",
    "\n",
    "    probabilities = F.softmax(logits, dim=-1)           # Convert logits to probabilities\n",
    "    last_token_probabilities = probabilities[0, -1, :]  # Get the probabilities for the last token\n",
    "\n",
    "    # Convert probabilities to a more readable format\n",
    "    probs = last_token_probabilities.cpu().numpy()\n",
    "\n",
    "    # Get the top 10 probabilities\n",
    "    top_k = 10\n",
    "    top_k_indices = probs.argsort()[-top_k:][::-1]\n",
    "    top_k_probs = probs[top_k_indices]\n",
    "    top_k_tokens = tokenizer.convert_ids_to_tokens(top_k_indices)\n",
    "\n",
    "    top_k_indices = last_token_probabilities.argsort()[-k:][::-1]\n",
    "    top_k_probs = last_token_probabilities[top_k_indices]\n",
    "    top_k_tokens = tokenizer.convert_ids_to_tokens(top_k_indices)\n",
    "\n",
    "    return list(zip(top_k_tokens, top_k_probs))"
   ]
  },
  {
   "cell_type": "markdown",
   "metadata": {},
   "source": [
    "### Get Computed Probabilities"
   ]
  },
  {
   "cell_type": "code",
   "execution_count": null,
   "metadata": {},
   "outputs": [],
   "source": [
    "print(f\"Token: {top_k.token}, Probability: {top_k.prob:.4f}\")"
   ]
  }
 ],
 "metadata": {
  "kernelspec": {
   "display_name": ".venv",
   "language": "python",
   "name": "python3"
  },
  "language_info": {
   "codemirror_mode": {
    "name": "ipython",
    "version": 3
   },
   "file_extension": ".py",
   "mimetype": "text/x-python",
   "name": "python",
   "nbconvert_exporter": "python",
   "pygments_lexer": "ipython3",
   "version": "3.12.7"
  }
 },
 "nbformat": 4,
 "nbformat_minor": 2
}
